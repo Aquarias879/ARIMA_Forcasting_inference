{
 "cells": [
  {
   "cell_type": "code",
   "execution_count": 2,
   "metadata": {},
   "outputs": [],
   "source": [
    "import time\n",
    "import pickle\n",
    "import pandas as pd\n",
    "from influxdb import DataFrameClient"
   ]
  },
  {
   "cell_type": "code",
   "execution_count": 3,
   "metadata": {},
   "outputs": [],
   "source": [
    "Soil_model = pickle.load(open(\"Soil_model.pkl\", \"rb\"))\n",
    "EC_model = pickle.load(open(\"ec_model.pkl\", \"rb\"))\n",
    "Temp_model = pickle.load(open(\"Temp_model.pkl\", \"rb\"))\n",
    "Humid_model = pickle.load(open(\"Humid_model.pkl\", \"rb\"))\n"
   ]
  },
  {
   "cell_type": "code",
   "execution_count": 4,
   "metadata": {},
   "outputs": [],
   "source": [
    "df=pd.read_csv('new.csv')"
   ]
  },
  {
   "cell_type": "code",
   "execution_count": 5,
   "metadata": {},
   "outputs": [
    {
     "data": {
      "text/html": [
       "<div>\n",
       "<style scoped>\n",
       "    .dataframe tbody tr th:only-of-type {\n",
       "        vertical-align: middle;\n",
       "    }\n",
       "\n",
       "    .dataframe tbody tr th {\n",
       "        vertical-align: top;\n",
       "    }\n",
       "\n",
       "    .dataframe thead th {\n",
       "        text-align: right;\n",
       "    }\n",
       "</style>\n",
       "<table border=\"1\" class=\"dataframe\">\n",
       "  <thead>\n",
       "    <tr style=\"text-align: right;\">\n",
       "      <th></th>\n",
       "      <th>Time</th>\n",
       "      <th>SoilMoisture.mean</th>\n",
       "      <th>conductivity.mean</th>\n",
       "      <th>humidity.mean</th>\n",
       "      <th>temperature.mean</th>\n",
       "    </tr>\n",
       "  </thead>\n",
       "  <tbody>\n",
       "    <tr>\n",
       "      <th>0</th>\n",
       "      <td>1652948160000</td>\n",
       "      <td>87.000000</td>\n",
       "      <td>711.000000</td>\n",
       "      <td>86.900000</td>\n",
       "      <td>29.600000</td>\n",
       "    </tr>\n",
       "    <tr>\n",
       "      <th>1</th>\n",
       "      <td>1652948220000</td>\n",
       "      <td>87.000000</td>\n",
       "      <td>845.444444</td>\n",
       "      <td>86.866667</td>\n",
       "      <td>29.566667</td>\n",
       "    </tr>\n",
       "    <tr>\n",
       "      <th>2</th>\n",
       "      <td>1652948280000</td>\n",
       "      <td>89.000000</td>\n",
       "      <td>854.200000</td>\n",
       "      <td>86.800000</td>\n",
       "      <td>29.600000</td>\n",
       "    </tr>\n",
       "    <tr>\n",
       "      <th>3</th>\n",
       "      <td>1652948340000</td>\n",
       "      <td>59.666667</td>\n",
       "      <td>836.000000</td>\n",
       "      <td>86.833333</td>\n",
       "      <td>29.600000</td>\n",
       "    </tr>\n",
       "    <tr>\n",
       "      <th>4</th>\n",
       "      <td>1652948400000</td>\n",
       "      <td>36.000000</td>\n",
       "      <td>885.888889</td>\n",
       "      <td>86.966667</td>\n",
       "      <td>29.600000</td>\n",
       "    </tr>\n",
       "    <tr>\n",
       "      <th>...</th>\n",
       "      <td>...</td>\n",
       "      <td>...</td>\n",
       "      <td>...</td>\n",
       "      <td>...</td>\n",
       "      <td>...</td>\n",
       "    </tr>\n",
       "    <tr>\n",
       "      <th>86396</th>\n",
       "      <td>1658131920000</td>\n",
       "      <td>80.250000</td>\n",
       "      <td>620.111111</td>\n",
       "      <td>63.025000</td>\n",
       "      <td>25.800000</td>\n",
       "    </tr>\n",
       "    <tr>\n",
       "      <th>86397</th>\n",
       "      <td>1658131980000</td>\n",
       "      <td>81.000000</td>\n",
       "      <td>619.700000</td>\n",
       "      <td>63.066667</td>\n",
       "      <td>25.900000</td>\n",
       "    </tr>\n",
       "    <tr>\n",
       "      <th>86398</th>\n",
       "      <td>1658132040000</td>\n",
       "      <td>80.500000</td>\n",
       "      <td>620.333333</td>\n",
       "      <td>62.975000</td>\n",
       "      <td>25.925000</td>\n",
       "    </tr>\n",
       "    <tr>\n",
       "      <th>86399</th>\n",
       "      <td>1658132100000</td>\n",
       "      <td>79.333333</td>\n",
       "      <td>619.900000</td>\n",
       "      <td>62.900000</td>\n",
       "      <td>25.766667</td>\n",
       "    </tr>\n",
       "    <tr>\n",
       "      <th>86400</th>\n",
       "      <td>1658132160000</td>\n",
       "      <td>80.500000</td>\n",
       "      <td>620.000000</td>\n",
       "      <td>62.866667</td>\n",
       "      <td>25.633333</td>\n",
       "    </tr>\n",
       "  </tbody>\n",
       "</table>\n",
       "<p>85982 rows × 5 columns</p>\n",
       "</div>"
      ],
      "text/plain": [
       "                Time  SoilMoisture.mean  conductivity.mean  humidity.mean  \\\n",
       "0      1652948160000          87.000000         711.000000      86.900000   \n",
       "1      1652948220000          87.000000         845.444444      86.866667   \n",
       "2      1652948280000          89.000000         854.200000      86.800000   \n",
       "3      1652948340000          59.666667         836.000000      86.833333   \n",
       "4      1652948400000          36.000000         885.888889      86.966667   \n",
       "...              ...                ...                ...            ...   \n",
       "86396  1658131920000          80.250000         620.111111      63.025000   \n",
       "86397  1658131980000          81.000000         619.700000      63.066667   \n",
       "86398  1658132040000          80.500000         620.333333      62.975000   \n",
       "86399  1658132100000          79.333333         619.900000      62.900000   \n",
       "86400  1658132160000          80.500000         620.000000      62.866667   \n",
       "\n",
       "       temperature.mean  \n",
       "0             29.600000  \n",
       "1             29.566667  \n",
       "2             29.600000  \n",
       "3             29.600000  \n",
       "4             29.600000  \n",
       "...                 ...  \n",
       "86396         25.800000  \n",
       "86397         25.900000  \n",
       "86398         25.925000  \n",
       "86399         25.766667  \n",
       "86400         25.633333  \n",
       "\n",
       "[85982 rows x 5 columns]"
      ]
     },
     "execution_count": 5,
     "metadata": {},
     "output_type": "execute_result"
    }
   ],
   "source": [
    "df.dropna()"
   ]
  },
  {
   "cell_type": "code",
   "execution_count": 6,
   "metadata": {},
   "outputs": [],
   "source": [
    "s = df['SoilMoisture.mean']\n",
    "ec = df['conductivity.mean']\n",
    "h = df['humidity.mean']\n",
    "t= df['temperature.mean']"
   ]
  },
  {
   "cell_type": "code",
   "execution_count": 7,
   "metadata": {},
   "outputs": [
    {
     "data": {
      "text/plain": [
       "array([79.91323764, 79.81249425, 80.07957163, 79.80199358, 79.83751307,\n",
       "       79.84449251, 79.73459934, 79.74076638, 79.69782795, 79.64558806])"
      ]
     },
     "execution_count": 7,
     "metadata": {},
     "output_type": "execute_result"
    }
   ],
   "source": [
    "Soil_model.fit_predict(s)"
   ]
  },
  {
   "cell_type": "code",
   "execution_count": 8,
   "metadata": {},
   "outputs": [
    {
     "data": {
      "text/plain": [
       "array([724.47229324, 724.47229324, 724.47229324, 724.47229324,\n",
       "       724.47229324, 724.47229324, 724.47229324, 724.47229324,\n",
       "       724.47229324, 724.47229324])"
      ]
     },
     "execution_count": 8,
     "metadata": {},
     "output_type": "execute_result"
    }
   ],
   "source": [
    "EC_model.fit_predict(ec)"
   ]
  },
  {
   "cell_type": "code",
   "execution_count": 9,
   "metadata": {},
   "outputs": [
    {
     "data": {
      "text/plain": [
       "array([25.74377572, 25.73818758, 25.74162808, 25.73938211, 25.74071763,\n",
       "       25.73979742, 25.74029793, 25.73990364, 25.74007292, 25.73988725])"
      ]
     },
     "execution_count": 9,
     "metadata": {},
     "output_type": "execute_result"
    }
   ],
   "source": [
    "Temp_model.fit_predict(t)"
   ]
  },
  {
   "cell_type": "code",
   "execution_count": 10,
   "metadata": {},
   "outputs": [
    {
     "data": {
      "text/plain": [
       "array([63.00018722, 63.06725117, 63.13403608, 63.20054311, 63.2667734 ,\n",
       "       63.33272812, 63.39840841, 63.46381541, 63.52895025, 63.59381408])"
      ]
     },
     "execution_count": 10,
     "metadata": {},
     "output_type": "execute_result"
    }
   ],
   "source": [
    "Humid_model.fit_predict(h)"
   ]
  },
  {
   "cell_type": "code",
   "execution_count": null,
   "metadata": {},
   "outputs": [],
   "source": []
  }
 ],
 "metadata": {
  "kernelspec": {
   "display_name": "Python 3.9.10 64-bit",
   "language": "python",
   "name": "python3"
  },
  "language_info": {
   "codemirror_mode": {
    "name": "ipython",
    "version": 3
   },
   "file_extension": ".py",
   "mimetype": "text/x-python",
   "name": "python",
   "nbconvert_exporter": "python",
   "pygments_lexer": "ipython3",
   "version": "3.9.10"
  },
  "orig_nbformat": 4,
  "vscode": {
   "interpreter": {
    "hash": "5690609de919cb85d885e786219fe5ac782a9e1298f7be9558df586642ac5089"
   }
  }
 },
 "nbformat": 4,
 "nbformat_minor": 2
}
