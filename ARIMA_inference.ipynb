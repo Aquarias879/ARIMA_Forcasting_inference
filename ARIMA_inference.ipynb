{
 "cells": [
  {
   "cell_type": "code",
   "execution_count": null,
   "metadata": {},
   "outputs": [],
   "source": [
    "import time\n",
    "import pickle\n",
    "import pandas as pd\n",
    "from influxdb import DataFrameClient"
   ]
  },
  {
   "cell_type": "code",
   "execution_count": null,
   "metadata": {},
   "outputs": [],
   "source": [
    "Soil_model = pickle.load(open(\"Soil_model.pkl\", \"rb\"))\n",
    "EC_model = pickle.load(open(\"ec_model.pkl\", \"rb\"))\n",
    "Temp_model = pickle.load(open(\"Temp_model.pkl\", \"rb\"))\n",
    "Humid_model = pickle.load(open(\"Humid_model.pkl\", \"rb\"))\n"
   ]
  },
  {
   "cell_type": "code",
   "execution_count": null,
   "metadata": {},
   "outputs": [],
   "source": [
    "host = '203.64.131.98'\n",
    "port = 8086\n",
    "user = 'sam'\n",
    "password = '12345678'\n",
    "protocol='line'\n",
    "dbname = 'Predicted'\n",
    "\n"
   ]
  },
  {
   "cell_type": "code",
   "execution_count": null,
   "metadata": {},
   "outputs": [],
   "source": [
    "client = DataFrameClient(host, port, user, password, dbname)"
   ]
  },
  {
   "cell_type": "code",
   "execution_count": null,
   "metadata": {},
   "outputs": [],
   "source": [
    "temp = client.query('SELECT last(\"value\") FROM \"temperature\" WHERE time > now() - 30d GROUP BY time(1m);')\n",
    "humid = client.query('SELECT last(\"value\") FROM \"humidity\" WHERE time > now() - 30d GROUP BY time(1m);') \n",
    "soil = client.query('SELECT last(\"value\") FROM \"SoilMoisture\" WHERE time > now() - 30d GROUP BY time(1m);')\n",
    "ec = client.query('SELECT last(\"value\") FROM \"conductivity\" WHERE time > now() - 30d GROUP BY time(1m);')"
   ]
  },
  {
   "cell_type": "code",
   "execution_count": null,
   "metadata": {},
   "outputs": [],
   "source": [
    "t=temp['temperature'].dropna()\n",
    "h=humid['humidity'].dropna()\n",
    "s=soil['SoilMoisture'].dropna()\n",
    "ec=ec['conductivity'].dropna()"
   ]
  },
  {
   "cell_type": "code",
   "execution_count": null,
   "metadata": {},
   "outputs": [],
   "source": [
    "Soil_model.fit_predict(s)"
   ]
  },
  {
   "cell_type": "code",
   "execution_count": null,
   "metadata": {},
   "outputs": [],
   "source": [
    "EC_model.fit_predict(ec)"
   ]
  },
  {
   "cell_type": "code",
   "execution_count": null,
   "metadata": {},
   "outputs": [],
   "source": [
    "Temp_model.fit_predict(t)"
   ]
  },
  {
   "cell_type": "code",
   "execution_count": null,
   "metadata": {},
   "outputs": [],
   "source": [
    "Humid_model.fit_predict(h)"
   ]
  }
 ],
 "metadata": {
  "kernelspec": {
   "display_name": "Python 3.9.10 64-bit",
   "language": "python",
   "name": "python3"
  },
  "language_info": {
   "codemirror_mode": {
    "name": "ipython",
    "version": 3
   },
   "file_extension": ".py",
   "mimetype": "text/x-python",
   "name": "python",
   "nbconvert_exporter": "python",
   "pygments_lexer": "ipython3",
   "version": "3.9.10"
  },
  "orig_nbformat": 4,
  "vscode": {
   "interpreter": {
    "hash": "5690609de919cb85d885e786219fe5ac782a9e1298f7be9558df586642ac5089"
   }
  }
 },
 "nbformat": 4,
 "nbformat_minor": 2
}
